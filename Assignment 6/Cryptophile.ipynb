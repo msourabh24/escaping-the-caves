{
 "cells": [
  {
   "cell_type": "code",
   "execution_count": null,
   "metadata": {},
   "outputs": [],
   "source": [
    "from mpmath import *\n",
    "import math\n",
    "mp.pretty = True\n"
   ]
  },
  {
   "cell_type": "code",
   "execution_count": null,
   "metadata": {},
   "outputs": [],
   "source": [
    "def func_val(x):\n",
    "    val = 0\n",
    "    for i in range(len(S)):\n",
    "        val += (S[i])*pow(x, 7-i)\n",
    "    return val\n"
   ]
  },
  {
   "cell_type": "code",
   "execution_count": null,
   "metadata": {},
   "outputs": [],
   "source": [
    "def poly_multi(p1, p2):\n",
    "    m = len(p1)\n",
    "    n = len(p2)\n",
    "    c = [0]*(m+n-1)\n",
    "    for i in range(m):\n",
    "        for j in range(n):\n",
    "            c[i+j] += p1[i]*p2[j]\n",
    "    return c\n",
    "\n",
    "def exponential(p1):\n",
    "    c = [1]\n",
    "    for i in range(5):\n",
    "        c = poly_multi(c, p1)\n",
    "    return c\n"
   ]
  },
  {
   "cell_type": "code",
   "execution_count": null,
   "metadata": {},
   "outputs": [],
   "source": [
    "padding = \"Cryptophile: This door has RSA encryption with exponent 5 and the password is\"\n",
    "n = 84364443735725034864402554533826279174703893439763343343863260342756678609216895093779263028809246505955647572176682669445270008816481771701417554768871285020442403001649254405058303439906229201909599348669565697534331652019516409514800265887388539283381053937433496994442146419682027649079704982600857517093\n",
    "c = 49351673615347257945680235356974693522445051704268941376930191910678842821422559260707102208885603407978512689473338697184460712802031281127306417167492155362084054594227492464631583586721152629421050980558541147791359073864821324298547651163372720033106842194053857702267966212898166226127699424995214587480"
   ]
  },
  {
   "cell_type": "code",
   "execution_count": null,
   "metadata": {},
   "outputs": [],
   "source": [
    "x = [8*x for x in range(1, 60)]\n",
    "p = \"\"\n",
    "for ch in padding:\n",
    "    p += \"0\"*(8-len(str(bin(ord(ch)))[2:]))+str(bin(ord(ch)))[2:]\n"
   ]
  },
  {
   "cell_type": "code",
   "execution_count": null,
   "metadata": {},
   "outputs": [],
   "source": [
    "for i in x:\n",
    "    mp.prec = i\n",
    "    K = 1 << i\n",
    "    a = int(p, 2)*K\n",
    "    Rx = exponential([K, a])\n",
    "    Rx[-1] -= c\n",
    "    R_poly = [[0 for i in range(7)] for i in range(7)]\n",
    "    for i in range(5):\n",
    "        R_poly[6-i][6-i] = n*pow(K, i)\n",
    "    R_poly[1] = [0]+Rx\n",
    "    R_poly[0] = [K*x for x in Rx]+[0]\n",
    "    with open('Matrix.txt', 'w') as f:\n",
    "        f.write(str(R_poly).replace(',', ' '))\n",
    "    !fplll \"Matrix.txt\" > \"vectors.txt\"\n",
    "    with open('vectors.txt', 'r') as f:\n",
    "        L = f.read()\n",
    "        L = L.replace('[', '')\n",
    "        L = L.replace(']', '')\n",
    "    L = L.splitlines()\n",
    "    V = [x.split(' ') for x in L]\n",
    "    T = [[int(y) for y in x if y != ''] for x in V]\n",
    "    T = T[:-1]\n",
    "    S = T[0]\n",
    "    S = S[:7]\n",
    "    y = findroot(func_val, (0.1, 1), tol=1/K, verify=False, solver='anderson')\n",
    "    y = int(mpf(y*K))\n",
    "    z = bin(y)\n",
    "    z = z[2:]\n",
    "    if len(z) % 8 != 0:\n",
    "        z = '0'*(8-len(z) % 8)+z\n",
    "    itr = len(z)//8\n",
    "    ans = \"\"\n",
    "    for i in range(itr):\n",
    "        e = 128\n",
    "        sum = 0\n",
    "        for j in range(8):\n",
    "            sum += e*(z[i*8+j] == '1')\n",
    "            e //= 2\n",
    "        ans += chr(sum)\n",
    "    print(f\"{ans}\")"
   ]
  }
 ],
 "metadata": {
  "language_info": {
   "name": "python"
  },
  "orig_nbformat": 4
 },
 "nbformat": 4,
 "nbformat_minor": 2
}
